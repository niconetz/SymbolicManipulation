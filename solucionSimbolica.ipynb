{
 "cells": [
  {
   "cell_type": "markdown",
   "metadata": {},
   "source": [
    "# Solucion Simbolica\n",
    "\n",
    "En este notebook aclaro como usar la biblioteca SYMPY para \n",
    "- Manipular simbolicamente ecuaciones (Factorizar, Despejar incognita, etc...)\n",
    "- Imprimir con LaTeX, una expresión\n",
    "- Resolver un sistema de ecuaciones"
   ]
  },
  {
   "cell_type": "code",
   "execution_count": 32,
   "metadata": {},
   "outputs": [],
   "source": [
    "#import matplotlib.pyplot as plt\n",
    "import numpy as np\n",
    "import sympy as sp\n",
    "\n",
    "\n",
    "# imprimir con notación matemática.\n",
    "sp.init_printing(use_latex='mathjax')"
   ]
  },
  {
   "cell_type": "code",
   "execution_count": 33,
   "metadata": {
    "tags": []
   },
   "outputs": [
    {
     "output_type": "stream",
     "name": "stdout",
     "text": "Desplegar x, en la forma simbolica:\n"
    },
    {
     "output_type": "display_data",
     "data": {
      "text/plain": "x",
      "text/latex": "$\\displaystyle x$"
     },
     "metadata": {}
    },
    {
     "output_type": "stream",
     "name": "stdout",
     "text": "Desplegar los que se inscribieron simultaneamente:\n"
    },
    {
     "output_type": "display_data",
     "data": {
      "text/plain": "x",
      "text/latex": "$\\displaystyle x$"
     },
     "metadata": {}
    },
    {
     "output_type": "display_data",
     "data": {
      "text/plain": "y",
      "text/latex": "$\\displaystyle y$"
     },
     "metadata": {}
    },
    {
     "output_type": "display_data",
     "data": {
      "text/plain": "z",
      "text/latex": "$\\displaystyle z$"
     },
     "metadata": {}
    }
   ],
   "source": [
    "#Para definir simbolos, se puede hacer uno a la vez o de a varios a la vez\n",
    "\n",
    "#uno a la vez\n",
    "x = sp.Symbol('x') #notar que S es mayus\n",
    "print('Desplegar x, en la forma simbolica:')\n",
    "display(x)\n",
    "\n",
    "\n",
    "#varios a la vez\n",
    "x,y,z = sp.symbols('x y z') #Notar que s es minuscula\n",
    "print('Desplegar los que se inscribieron simultaneamente:')\n",
    "display(x,y,z)"
   ]
  },
  {
   "cell_type": "code",
   "execution_count": 34,
   "metadata": {},
   "outputs": [
    {
     "output_type": "display_data",
     "data": {
      "text/plain": "2⋅x + 4",
      "text/latex": "$\\displaystyle 2 x + 4$"
     },
     "metadata": {}
    }
   ],
   "source": [
    "#Para definir funciones, se usa el comando Function\n",
    "f = sp.Function('f')\n",
    "\n",
    "# a continuacion, se puede usar una igualdad para definir\n",
    "# de que depende una funcion, mediante una expresion\n",
    "f = 2*x + 4\n",
    "\n",
    "#esa expresion puede ser impresa\n",
    "\n",
    "display(f)"
   ]
  },
  {
   "cell_type": "code",
   "execution_count": 35,
   "metadata": {},
   "outputs": [
    {
     "output_type": "display_data",
     "data": {
      "text/plain": "12",
      "text/latex": "$\\displaystyle 12$"
     },
     "metadata": {}
    },
    {
     "output_type": "display_data",
     "data": {
      "text/plain": "2⋅y + 4",
      "text/latex": "$\\displaystyle 2 y + 4$"
     },
     "metadata": {}
    }
   ],
   "source": [
    "# Se puede usar el comando .subs(), para sustituir los simbolos de una ecuacion y obtener su valor\n",
    "\n",
    "display(f.subs(x,4))\n",
    "\n",
    "#se escribe: simboloAreemplazar,simboloReemplazo\n",
    "display(f.subs(x,y))\n",
    "#notar que se pudo hacer con numeros y con simbolos\n",
    "\n"
   ]
  },
  {
   "cell_type": "markdown",
   "metadata": {},
   "source": [
    "## Algunos comandos\n",
    "Ahora que ya quedó claro como expresar simbolos y funciones, se introducen los siguientes comandos: \n",
    "(Dentro de las ecuaciones simbolicas las funciones deben estar declaradas como sp. por ejemplo para el coseno, se usa sp.cos en vez de np.cos)\n",
    "- sp.symplify(funcion)\n",
    "- sp.Eq(ladoIzq,ladoDer)\n",
    "- sp.expand(funcion)\n",
    "- sp.factor(funcion)\n",
    "- sp.diff(funcion,respectoAvariable)\n",
    "- sp.integrate(funcion, (variable, valor inicial, valor final))"
   ]
  },
  {
   "cell_type": "markdown",
   "metadata": {},
   "source": [
    "### resolver ecuación\n",
    "Digamos que se quiere encontrar la solucion de una ecuacion en concreto, la cual tiene varios simbolos y se quiere despejar uno en concreto"
   ]
  },
  {
   "cell_type": "code",
   "execution_count": 56,
   "metadata": {},
   "outputs": [
    {
     "output_type": "display_data",
     "data": {
      "text/plain": "2⋅x - sin(x) + 3/2",
      "text/latex": "$\\displaystyle 2 x - \\sin{\\left(x \\right)} + \\frac{3}{2}$"
     },
     "metadata": {}
    }
   ],
   "source": [
    "#definimos las variables, y planteamos la ecuacion\n",
    "x,y,z = sp.symbols('x y z')\n",
    "f = sp.Function('f')\n",
    "f = (x + x + x)/2 + x**2 + sp.cos(x)\n",
    "\n",
    "display(sp.diff(f))\n"
   ]
  }
 ],
 "metadata": {
  "kernelspec": {
   "display_name": "Python 3",
   "language": "python",
   "name": "python3"
  },
  "language_info": {
   "codemirror_mode": {
    "name": "ipython",
    "version": 3
   },
   "file_extension": ".py",
   "mimetype": "text/x-python",
   "name": "python",
   "nbconvert_exporter": "python",
   "pygments_lexer": "ipython3",
   "version": "3.8.3-final"
  }
 },
 "nbformat": 4,
 "nbformat_minor": 2
}